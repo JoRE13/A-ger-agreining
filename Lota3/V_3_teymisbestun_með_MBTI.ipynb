{
  "cells": [
    {
      "cell_type": "markdown",
      "metadata": {
        "id": "FncHf5lmUq1Y"
      },
      "source": [
        "### Teymisbestun með MBTI\n",
        "Sjá [verkefnislýsingu hér](https://haskoliislands.instructure.com/courses/33829/assignments/152512)\n",
        "og [writing equations in Colab](https://colab.research.google.com/github/EPS-Libraries-Berkeley/volt/blob/main/LaTeX/Equations_and_Formulas.ipynb#:~:text=Getting%20Started%3A%20Basic%20Equations&text=Math%20can%20be%20displayed%20inline,%3D%20z%24%20in%20the%20line.)."
      ]
    },
    {
      "cell_type": "markdown",
      "metadata": {
        "id": "hq_tPcQIQeuW"
      },
      "source": [
        "\n",
        "\n",
        "## 1. Describe the mathematical programming model\n",
        "\n",
        "- ***Define the decision variables, constraints, and objective function.***\n",
        "- ***Explain how the model ensures diversity and balance within the team.***\n"
      ]
    },
    {
      "cell_type": "markdown",
      "metadata": {},
      "source": [
        "### **Solution:**\n",
        "\n",
        "***The mathematical model:***\n",
        "\n",
        "Our decision variable is a vector $\\overline x = (x_1, \\dots , x_{16}) \\in \\mathbb{R}^{16}$ s.t. $x_i$ denotes the number of persons chosen to the team of personality type $i$. We define as well a vector $\\overline c \\in \\mathbb{R}^{16}$ s.t. $c_i$ is the benefit score of personality $i$. As we want to maximize the total benefit score of our team the objective function we want to maximise becomes\n",
        "$$\n",
        "\\sum_{i=1}^{16} c_ix_i\n",
        "$$\n",
        "We define four vectors $a_e, a_a, a_s, a_d \\in \\mathbb{R}^{16}$ where $a_{e,i}$ is 1 if personality $i$ is an explorer and 0 otherwise. Like wise we define $a_a$ for analysts, $a_s$ for sentinels and $a_d$ diplomats. The dot product $\\langle a_a, x\\rangle$ then for example returns the total number of analysts. Then we have four constraints:\n",
        "$$\n",
        "\\langle a_k, x\\rangle \\geq 1 \\text{ for } k\\in \\{a,e,s,d\\}\n",
        "$$\n",
        "Then we define vectors $d_r$ where $r\\in\\{E,I,S,N,T,F,J,P\\}$ and e.g. $d_E$ is 1 for all types with Extroversion and 0 for all other types. Then we also have constraints:\n",
        "$$\n",
        "-1 \\leq \\langle d_{r_1} , x\\rangle - \\langle d_{r_2}, x\\rangle \\leq 1 \\text{ for } (r_1,r_2) \\in \\{(E,I),(S,N),(T,F),(J,P)\\}\n",
        "$$\n",
        "The team should consist of 5 to 7 people so we alsi have the constraint\n",
        "$$\n",
        "5\\leq \\sum_{i=1}^{16} x_i \\leq 7\n",
        "$$\n",
        "Finnally we can only have as many of each personality as are available. If we let $q_i$ denote the number of available persons of personality $i$ we get the constraints\n",
        "$$\n",
        "x_i < q_i, \\text{ for } i=1, \\dots , 16\n",
        "$$\n",
        "\n",
        "***Why the team works?***\n",
        "\n",
        "We have now defined our model. Our main goal is to maximise the benefit score as we want the best team. We also add constraints that each personality group has at most one person and that for each trait we have a no more than 1 person difference. These two constraints ensure we get members of each personality group and personality. With this constraint we are making sure that we do not get members who all have similar talents or expertice. It is also feasible since we only allow as many members of each personality type as are available."
      ]
    },
    {
      "cell_type": "markdown",
      "metadata": {
        "id": "fcKRCx-UUFrh"
      },
      "source": [
        "\n",
        "## 2. Formulate and Solve the Linear Program\n",
        "\n",
        "- Express the LP in matrix form using:\n",
        "  - **c** (objective function coefficients)\n",
        "  - **A** (constraint matrix)\n",
        "  - **b** (right-hand side constraints)\n",
        "- Solve the LP using x, Table = simplex(c,A,b)."
      ]
    },
    {
      "cell_type": "markdown",
      "metadata": {},
      "source": [
        "### **Solution:**\n",
        "\n",
        "We let $c$ be defined as before. Then $A$ will be $30\\times 16$ matrix where the first four lines are our $a_k$ vectors, the next both the positive and negative difference of $d_{r_1}$ and $d_{r_1}$ for our four tuples. The next two lines ones and then -1 ones for the team size. Then finally is $A[14:,:]=I_{16}$ to account for the available number of team members. Lastly is then $b$ defined for each constraint. Let us do this in python."
      ]
    },
    {
      "cell_type": "code",
      "execution_count": 2,
      "metadata": {},
      "outputs": [],
      "source": [
        "# We begin by defining our personalities\n",
        "mbti_personality = {\n",
        "    \"Explorers\": {\n",
        "        \"ISTP\": \"Virtuoso\",\n",
        "        \"ISFP\": \"Adventurer\",\n",
        "        \"ESTP\": \"Entrepreneur\",\n",
        "        \"ESFP\": \"Entertainer\"\n",
        "    },\n",
        "    \"Analysts\": {\n",
        "        \"INTJ\": \"Architect\",\n",
        "        \"INTP\": \"Logician\",\n",
        "        \"ENTJ\": \"Commander\",\n",
        "        \"ENTP\": \"Debater\"\n",
        "    },\n",
        "    \"Diplomats\": {\n",
        "        \"INFJ\": \"Advocate\",\n",
        "        \"INFP\": \"Mediator\",\n",
        "        \"ENFJ\": \"Protagonist\",\n",
        "        \"ENFP\": \"Campaigner\"\n",
        "    },\n",
        "    \"Sentinels\": {\n",
        "        \"ISTJ\": \"Logistician\",\n",
        "        \"ISFJ\": \"Defender\",\n",
        "        \"ESTJ\": \"Executive\",\n",
        "        \"ESFJ\": \"Consul\"\n",
        "    }\n",
        "}\n",
        "\n",
        "personality_names = {mbti: name for group in mbti_personality.values() for mbti, name in group.items()}\n",
        "traits = {trait: [mbti for mbti in personality_names.keys() if trait in mbti] for trait in \"IESTJFPN\"}\n",
        "\n",
        "# Benefit score for teamwork used for objective function (stuðlar í markfalli)\n",
        "score = {\n",
        "    \"ESFP\": 3.00,\n",
        "    \"ESFJ\": 2.93,\n",
        "    \"ENTJ\": 2.89,\n",
        "    \"ENTP\": 2.81,\n",
        "    \"ENFJ\": 2.75,\n",
        "    \"ESTP\": 2.75,\n",
        "    \"ENFP\": 2.74,\n",
        "    \"ESTJ\": 2.72,\n",
        "    \"ISTJ\": 2.71,\n",
        "    \"INTJ\": 2.61,\n",
        "    \"ISFP\": 2.60,\n",
        "    \"INFP\": 2.44,\n",
        "    \"ISTP\": 2.38,\n",
        "    \"INTP\": 2.33,\n",
        "    \"ISFJ\": 2.33,\n",
        "    \"INFJ\": 2.25,\n",
        "}\n",
        "number = {\n",
        "    \"ESFP\": 1,\n",
        "    \"ESFJ\": 3,\n",
        "    \"ENTJ\": 9,\n",
        "    \"ENTP\": 6,\n",
        "    \"ENFJ\": 2,\n",
        "    \"ESTP\": 3,\n",
        "    \"ENFP\": 5,\n",
        "    \"ESTJ\": 4,\n",
        "    \"ISTJ\": 8,\n",
        "    \"INTJ\": 8,\n",
        "    \"ISFP\": 2,\n",
        "    \"INFP\": 3,\n",
        "    \"ISTP\": 3,\n",
        "    \"INTP\": 1,\n",
        "    \"ISFJ\": 1,\n",
        "    \"INFJ\": 1,\n",
        "}\n"
      ]
    },
    {
      "cell_type": "markdown",
      "metadata": {},
      "source": [
        "The simplex method"
      ]
    },
    {
      "cell_type": "code",
      "execution_count": 3,
      "metadata": {},
      "outputs": [],
      "source": [
        "import numpy as np\n",
        "\n",
        "# Simplex aðferð fyrir max c'x, m.t.t. Ax <= b\n",
        "def pivot(Table, row, col):\n",
        "    Table[row, :] /= Table[row, col]\n",
        "    for k in range(Table.shape[0]):\n",
        "        if k != row:\n",
        "            Table[k, :] -= Table[row, :] * Table[k, col]\n",
        "    return Table\n",
        "\n",
        "def simplex(c, A, b):\n",
        "    m, n = A.shape  # Number of constraints (m) and variables (n)\n",
        "\n",
        "    # If any b is negative then add an artificial x0 variable\n",
        "    if np.any(b < 0):\n",
        "      nx = 1\n",
        "    else:\n",
        "      nx = 0\n",
        "\n",
        "    # Initialize simplex tableau\n",
        "    Table = np.zeros((m+1, n+nx+m+1))\n",
        "    if nx > 0:\n",
        "        Table[0, :-1] = np.concatenate((np.zeros(n+m), [1]))  # fake objective\n",
        "        Table[1:, :-1] = np.hstack((A, np.eye(m), -np.ones((m,1))))  # Constraints (slack vars)\n",
        "    else:\n",
        "        Table[0, :-1] = np.concatenate((-c, np.zeros(m)))  # Objective row\n",
        "        Table[1:, :-1] = np.hstack((A, np.eye(m)))  # Constraints (slack vars)\n",
        "    Table[1:, -1] = b  # RHS values\n",
        "\n",
        "    # Initial basis variables (slack variables)\n",
        "    basis = np.array([n + i for i in range(m)])\n",
        "    nonbasis = [i for i in range(n + m) if i not in basis]\n",
        "    iter = 0\n",
        "    while True:\n",
        "\n",
        "        # Step 1: Check for special pivot\n",
        "        if iter == 0 and nx > 0:\n",
        "          #print(\"Special pivoting...\")\n",
        "          col = n + m\n",
        "          row = np.argmin(Table[1:,-1]) + 1\n",
        "\n",
        "        # Step 2: Check for negative cost coefficients (Primal Feasibility)\n",
        "        elif np.any(Table[0, :-1] < 0):\n",
        "            #print(\"Primal Pivoting...\")\n",
        "            col = np.argmin(Table[0, :-1])  # Most negative reduced cost\n",
        "            # Standard ratio test to find leaving variable\n",
        "            ratios = np.array([\n",
        "                Table[i, -1] / Table[i, col] if Table[i, col] > 0 else np.inf\n",
        "                for i in range(1, m + 1)\n",
        "            ])\n",
        "            row = np.argmin(ratios) + 1  # Get corresponding row\n",
        "\n",
        "            if np.all(ratios == np.inf):\n",
        "                raise ValueError(\"Primal infeasibility detected (no valid leaving row)\")\n",
        "\n",
        "        # Step 3: If neither primal nor dual issues, stop\n",
        "        else:\n",
        "            break\n",
        "\n",
        "        # Perform the pivot\n",
        "        Table = pivot(Table, row, col)\n",
        "        basis[row - 1] = col  # Update basis\n",
        "        nonbasis = [i for i in range(n+m) if i not in basis]\n",
        "        # if we are using the fake objective and x0 variable check if we can get rid of it\n",
        "        if (nx > 0) and (Table[0, -1] <= 1E-6) and (n+m) not in basis:\n",
        "          #print(\"reinserting the original objective\")\n",
        "          nx = 0\n",
        "          Table[0,:] = 0\n",
        "          Table[0,:n] = -c\n",
        "          Table = np.delete(Table, -2, axis=1)\n",
        "          for i in range(m):\n",
        "            Table = pivot(Table,i+1,basis[i])\n",
        "        iter += 1\n",
        "    # Extract solution\n",
        "    if nx > 0:\n",
        "        x = None\n",
        "        print(\"Warning: no feasible solution found\")\n",
        "    else:\n",
        "        x = np.zeros(n + m)\n",
        "        x[basis] = Table[1:, -1]\n",
        "\n",
        "    return x, Table, basis, nonbasis  # Return solution (also slack variables, else use x[:n])"
      ]
    },
    {
      "cell_type": "markdown",
      "metadata": {},
      "source": [
        "Let us solve the probem"
      ]
    },
    {
      "cell_type": "code",
      "execution_count": 7,
      "metadata": {
        "id": "KvRiXqsyV9ED"
      },
      "outputs": [],
      "source": [
        "import numpy as np\n",
        "\n",
        "# Let us define A, b and c and then solve the simplex problem\n",
        "personalities = list(number.keys())\n",
        "c = list(score.values())\n",
        "\n",
        "A = np.zeros((30,16))\n",
        "b = np.zeros(30)\n",
        "\n",
        "# At least one from each personality, these are -a_k\n",
        "A[0,:] = [-1,0,0,0,0,-1,0,0,0,0,-1,0,-1,0,0,0]\n",
        "b[0] = -1\n",
        "A[1,:] = [0,0,-1,-1,0,0,0,0,0,-1,0,0,0,-1,0,0]\n",
        "b[1] = -1\n",
        "A[2,:] = [0,0,0,0,-1,0,-1,0,0,0,0,-1,0,0,0,-1]\n",
        "b[2] = -1\n",
        "A[3,:] = [0,-1,0,0,0,0,0,-1,-1,0,0,0,0,0,-1,0]\n",
        "b[3] = -1\n",
        "\n",
        "#no more than one person difference personality trait axis, these are dr1-dr2 constraints\n",
        "index=4\n",
        "for tuple in [['E','I'],['S','N'],['T','F'],['J','P']]:\n",
        "    r1 = tuple[0]\n",
        "    r2 = tuple[1]\n",
        "    dr1 = np.array([1 if r1 in s else 0 for s in personalities])\n",
        "    dr2 = np.array([1 if r2 in s else 0 for s in personalities])\n",
        "    delta_r = dr1-dr2\n",
        "    A[index,:] = delta_r\n",
        "    b[index] = 1\n",
        "    index += 1\n",
        "    A[index,:] = -1 * delta_r\n",
        "    b[index] = 1\n",
        "    index += 1\n",
        "\n",
        "# between 5 and 7 members\n",
        "A[index,:] = np.ones(16)\n",
        "b[index] = 7\n",
        "index +=1\n",
        "A[index,:] = -1 * np.ones(16)\n",
        "b[index] = -5\n",
        "index+=1\n",
        "\n",
        "# no more than available members allowed\n",
        "for i in range(16):\n",
        "    arr = np.zeros(16)\n",
        "    arr[i] = 1\n",
        "    A[index+i,:] = arr\n",
        "    b[index+i] = number[personalities[i]]\n",
        " \n",
        "# solve the LP\n",
        "x, Table, basis, nonbasis = simplex(np.array(c),np.array(A),np.array(b))\n",
        "sol = x[:16]"
      ]
    },
    {
      "cell_type": "code",
      "execution_count": 5,
      "metadata": {},
      "outputs": [],
      "source": [
        "def printResults(sol):\n",
        "    '''\n",
        "    A function that prints the solution of our LP\n",
        "    '''\n",
        "    total_score = 0\n",
        "    total_members = 0\n",
        "    total_types = {\n",
        "        \"Explorers\": 0,\n",
        "        \"Analysts\": 0,\n",
        "        \"Diplomats\": 0,\n",
        "        \"Sentinels\": 0\n",
        "    }\n",
        "    total_traits = {\n",
        "        \"E\":0,\n",
        "        \"I\":0,\n",
        "        \"S\":0,\n",
        "        \"N\":0,\n",
        "        \"F\":0,\n",
        "        \"T\":0,\n",
        "        \"P\":0,\n",
        "        \"J\":0\n",
        "    }\n",
        "    key_traits = {\n",
        "        \"E\":\"Extroversion\",\n",
        "        \"I\":\"Introversion\",\n",
        "        \"S\":\"Sensing\",\n",
        "        \"N\":\"Intuition\",\n",
        "        \"F\":\"Feeling\",\n",
        "        \"T\":\"Thinking\",\n",
        "        \"P\":\"Perceiving\",\n",
        "        \"J\":\"Judging\"\n",
        "    }\n",
        "    print('Team combination:')\n",
        "    for i in range(len(sol)):\n",
        "        if(round(sol[i])>0):\n",
        "            # calc total score\n",
        "            total_score += round(sol[i])*score[personalities[i]]\n",
        "            # calc total members\n",
        "            total_members += round(sol[i])\n",
        "            # calc total of each type\n",
        "            for category, types in mbti_personality.items():\n",
        "                if personalities[i] in types:\n",
        "                    total_types[category] += round(sol[i])\n",
        "            # calc totals in each trait\n",
        "            traits = list(personalities[i])\n",
        "            for letter in traits:\n",
        "                total_traits[letter] += round(sol[i])\n",
        "            print(f'Personality {personalities[i]}, {personality_names[personalities[i]]}, with {round(sol[i])} members')\n",
        "\n",
        "    print(f'\\nTotal score: {round(total_score,2)}')\n",
        "    print(f'Total members: {total_members}')\n",
        "    print('\\nNumber of members in each MBTI group:')\n",
        "    for i in total_types.keys():\n",
        "        print(f'Group {i} with {total_types[i]} members')\n",
        "\n",
        "    print(f'\\nNumbr of members along eack key trait:')\n",
        "    for i in total_traits.keys():\n",
        "        print(f'Trait {i}, {key_traits[i]}, has {total_traits[i]} members')\n"
      ]
    },
    {
      "cell_type": "markdown",
      "metadata": {
        "id": "ScGi9i2-T8zg"
      },
      "source": [
        "## 3. Sensitivity Analysis (Using the Final Simplex Tableau)"
      ]
    },
    {
      "cell_type": "markdown",
      "metadata": {},
      "source": [
        "### **a)** *Optimal Team Composition*\n",
        "- Based on the final Simplex tableau, determine the optimal team composition.\n",
        "- If fractional values appear in the solution, how should they be interpreted?"
      ]
    },
    {
      "cell_type": "markdown",
      "metadata": {},
      "source": [
        "#### **Solution**\n",
        "\n",
        "For fractional values we round to the next whole integer. Then if we use `printResult()` function defined above we get: "
      ]
    },
    {
      "cell_type": "code",
      "execution_count": 8,
      "metadata": {},
      "outputs": [
        {
          "name": "stdout",
          "output_type": "stream",
          "text": [
            "Team combination:\n",
            "Personality ESFP, Entertainer, with 1 members\n",
            "Personality ENTJ, Commander, with 2 members\n",
            "Personality ENFP, Campaigner, with 1 members\n",
            "Personality ISTJ, Logistician, with 2 members\n",
            "Personality ISFP, Adventurer, with 1 members\n",
            "\n",
            "Total score: 19.54\n",
            "Total members: 7\n",
            "\n",
            "Number of members in each MBTI group:\n",
            "Group Explorers with 2 members\n",
            "Group Analysts with 2 members\n",
            "Group Diplomats with 1 members\n",
            "Group Sentinels with 2 members\n",
            "\n",
            "Numbr of members along eack key trait:\n",
            "Trait E, Extroversion, has 4 members\n",
            "Trait I, Introversion, has 3 members\n",
            "Trait S, Sensing, has 4 members\n",
            "Trait N, Intuition, has 3 members\n",
            "Trait F, Feeling, has 3 members\n",
            "Trait T, Thinking, has 4 members\n",
            "Trait P, Perceiving, has 3 members\n",
            "Trait J, Judging, has 4 members\n"
          ]
        }
      ],
      "source": [
        "printResults(sol)"
      ]
    },
    {
      "cell_type": "markdown",
      "metadata": {},
      "source": [
        "### **b)** *Excluded Personality types*\n",
        "* Identify personality types that did not make it into the team.\n",
        "* Using the final Simplex tableau, determine how much their contribution would need to increase for them to be included in the team."
      ]
    },
    {
      "cell_type": "markdown",
      "metadata": {},
      "source": [
        "#### **Solution:**\n",
        "\n",
        "We begin by defining what making the team means. In our case we determine that a personality type has made the team if and only if it's included in the final basis whether or not it's final value is zero. Likewise the traits that did not make the team are then the personalities that ended in the non-basis. Then we have:"
      ]
    },
    {
      "cell_type": "code",
      "execution_count": 6,
      "metadata": {},
      "outputs": [
        {
          "name": "stdout",
          "output_type": "stream",
          "text": [
            "The following personality traits did not make the team\n",
            "Personality ESFJ, Consul\n",
            "Personality ENFJ, Protagonist\n",
            "Personality ESTP, Entrepreneur\n",
            "Personality ESTJ, Executive\n",
            "Personality INFP, Mediator\n",
            "Personality ISTP, Virtuoso\n",
            "Personality INTP, Logician\n",
            "Personality ISFJ, Defender\n",
            "Personality INFJ, Advocate\n"
          ]
        }
      ],
      "source": [
        "print('The following personality traits did not make the team')\n",
        "for i in nonbasis:\n",
        "        if(i<16):\n",
        "            print(f'Personality {personalities[i]}, {personality_names[personalities[i]]}')"
      ]
    },
    {
      "cell_type": "markdown",
      "metadata": {},
      "source": [
        "Then we can use the reduced costs to determine how much $c_j$ must increase for variable $j$ to enter the basis. If the i-th value in the non-basis is variable $j$ then $z_{n_j}$ is how much $c_j$ must increase s.t. variable $j$ joins the basis."
      ]
    },
    {
      "cell_type": "code",
      "execution_count": 17,
      "metadata": {},
      "outputs": [
        {
          "name": "stdout",
          "output_type": "stream",
          "text": [
            "The parameter c for personality ESFJ must increase by more than 0.0300000000000002 for the personality to enter the basis\n",
            "The parameter c for personality ENFJ must increase by more than 0.0700000000000003 for the personality to enter the basis\n",
            "The parameter c for personality ESTP must increase by more than 0.160000000000000 for the personality to enter the basis\n",
            "The parameter c for personality ESTJ must increase by more than 0.270000000000000 for the personality to enter the basis\n",
            "The parameter c for personality INFP must increase by more than 0.0200000000000000 for the personality to enter the basis\n",
            "The parameter c for personality ISTP must increase by more than 0.250000000000000 for the personality to enter the basis\n",
            "The parameter c for personality INTP must increase by more than 0.200000000000000 for the personality to enter the basis\n",
            "The parameter c for personality ISFJ must increase by more than 0.350000000000000 for the personality to enter the basis\n",
            "The parameter c for personality INFJ must increase by more than 0.290000000000000 for the personality to enter the basis\n"
          ]
        }
      ],
      "source": [
        "import sympy as sp\n",
        "import numpy as np\n",
        "x, Table, basis, nonbasis = simplex(np.array(c),np.array(A),np.array(b))\n",
        "m, n = A.shape  # Number of constraints (m) and variables (n)\n",
        "\n",
        "# Set up the initial Simplex tableau\n",
        "chat = np.concatenate((c, np.zeros(m)))\n",
        "Ahat = np.hstack((A, np.eye(m)))\n",
        "\n",
        "# Compute B and N matrices from the basis\n",
        "B = Ahat[:, basis]\n",
        "N = Ahat[:, nonbasis]\n",
        "\n",
        "# Compute the inverse of B\n",
        "invB = np.linalg.inv(B)\n",
        "\n",
        "# Compute B^(-1) * N\n",
        "invBN = invB @ N\n",
        "invBN = sp.Matrix(invBN)\n",
        "\n",
        "cb = sp.Matrix(chat[basis]).T\n",
        "cn = sp.Matrix(chat[nonbasis]).T\n",
        "\n",
        "# Compute the reduced costs\n",
        "zn = invBN.T @ cb.T - cn.T\n",
        "\n",
        "for i in range(len(nonbasis)):\n",
        "    if (nonbasis[i] < 16):\n",
        "        print(f'The parameter c for personality {personalities[nonbasis[i]]} must increase by more than {zn[i]} for the personality to enter the basis')"
      ]
    },
    {
      "cell_type": "markdown",
      "metadata": {},
      "source": [
        "We can also read the reduced costs straight from the final Simplex Tableau."
      ]
    },
    {
      "cell_type": "code",
      "execution_count": 27,
      "metadata": {},
      "outputs": [],
      "source": [
        "def display_final_obj(Table, basis, decision_vars):\n",
        "    rounded_table = np.round(Table, 4)\n",
        "    df= pd.DataFrame(rounded_table)\n",
        "    df.index = [\"OBJ\"] + [f\"{personalities[b]}\" if b<16 else f\"y_{b}\" for b in basis]\n",
        "    df.columns = [f\"col{i}\" for i in range(Table.shape[1])]\n",
        "    if decision_vars and len(decision_vars) <= Table.shape[1]:\n",
        "        df.columns = decision_vars + [f\"y_{i-len(decision_vars)}\" for i in range(len(decision_vars), Table.shape[1]-1)] + ['RHS']\n",
        "    print(df.iloc[[0]].to_string(index=True, header=True))\n",
        "    print(\"\")\n",
        "    return df.iloc[[0]]"
      ]
    },
    {
      "cell_type": "code",
      "execution_count": 28,
      "metadata": {},
      "outputs": [
        {
          "name": "stdout",
          "output_type": "stream",
          "text": [
            "     ESFP  ESFJ  ENTJ  ENTP  ENFJ  ESTP  ENFP  ESTJ  ISTJ  INTJ  ISFP  INFP  ISTP  INTP  ISFJ  INFJ  y_0  y_1   y_2  y_3   y_4  y_5   y_6  y_7    y_8  y_9  y_10  y_11   y_12  y_13  y_14  y_15  y_16  y_17  y_18  y_19  y_20  y_21  y_22  y_23  y_24  y_25  y_26  y_27  y_28  y_29    RHS\n",
            "OBJ   0.0  0.03   0.0   0.0  0.07  0.16   0.0  0.27   0.0   0.0   0.0  0.02  0.25   0.2  0.35  0.29  0.0  0.0  0.04  0.0  0.14  0.0  0.05  0.0  0.015  0.0  0.04   0.0  2.745   0.0  0.12   0.0   0.0   0.0   0.0   0.0   0.0   0.0   0.0   0.0   0.0   0.0   0.0   0.0   0.0   0.0  19.54\n",
            "\n"
          ]
        }
      ],
      "source": [
        "final_obj = display_final_obj(Table, basis, personalities)"
      ]
    },
    {
      "cell_type": "markdown",
      "metadata": {},
      "source": [
        "And the parameter in the final objective function for non basic variable $j$ is how much it must increase. As an example we can see how the reult changes if we add either add 0.349 to $c_\\text{ESTJ}$ or add 0.351."
      ]
    },
    {
      "cell_type": "code",
      "execution_count": 19,
      "metadata": {},
      "outputs": [
        {
          "name": "stdout",
          "output_type": "stream",
          "text": [
            "Team combination:\n",
            "Personality ESFP, Entertainer, with 1 members\n",
            "Personality ENTJ, Commander, with 2 members\n",
            "Personality ENFP, Campaigner, with 1 members\n",
            "Personality ISTJ, Logistician, with 2 members\n",
            "Personality ISFP, Adventurer, with 1 members\n",
            "\n",
            "Total score: 19.54\n",
            "Total members: 7\n",
            "\n",
            "Number of members in each MBTI group:\n",
            "Group Explorers with 2 members\n",
            "Group Analysts with 2 members\n",
            "Group Diplomats with 1 members\n",
            "Group Sentinels with 2 members\n",
            "\n",
            "Numbr of members along eack key trait:\n",
            "Trait E, Extroversion, has 4 members\n",
            "Trait I, Introversion, has 3 members\n",
            "Trait S, Sensing, has 4 members\n",
            "Trait N, Intuition, has 3 members\n",
            "Trait F, Feeling, has 3 members\n",
            "Trait T, Thinking, has 4 members\n",
            "Trait P, Perceiving, has 3 members\n",
            "Trait J, Judging, has 4 members\n"
          ]
        }
      ],
      "source": [
        "# We add excactly the reduced cost\n",
        "add = np.array([0.27 if i == 'ESTJ' else 0 for i in personalities])\n",
        "c_add = np.array(c)+add\n",
        "# add the difference\n",
        "score['ESTJ'] +=  0.27\n",
        "x, t, bas, nbas = simplex(c_add, np.array(A), np.array(b))\n",
        "printResults(x[:16])\n",
        "# remove the differenece again\n",
        "score['ESTJ'] -=  0.27"
      ]
    },
    {
      "cell_type": "code",
      "execution_count": 20,
      "metadata": {},
      "outputs": [
        {
          "name": "stdout",
          "output_type": "stream",
          "text": [
            "Team combination:\n",
            "Personality ESFP, Entertainer, with 1 members\n",
            "Personality ENFP, Campaigner, with 1 members\n",
            "Personality ESTJ, Executive, with 2 members\n",
            "Personality INTJ, Architect, with 2 members\n",
            "Personality ISFP, Adventurer, with 1 members\n",
            "\n",
            "Total score: 19.56\n",
            "Total members: 7\n",
            "\n",
            "Number of members in each MBTI group:\n",
            "Group Explorers with 2 members\n",
            "Group Analysts with 2 members\n",
            "Group Diplomats with 1 members\n",
            "Group Sentinels with 2 members\n",
            "\n",
            "Numbr of members along eack key trait:\n",
            "Trait E, Extroversion, has 4 members\n",
            "Trait I, Introversion, has 3 members\n",
            "Trait S, Sensing, has 4 members\n",
            "Trait N, Intuition, has 3 members\n",
            "Trait F, Feeling, has 3 members\n",
            "Trait T, Thinking, has 4 members\n",
            "Trait P, Perceiving, has 3 members\n",
            "Trait J, Judging, has 4 members\n"
          ]
        }
      ],
      "source": [
        "# We add a number higher than the reduced costs\n",
        "add = np.array([0.28 if i == 'ESTJ' else 0 for i in personalities])\n",
        "c_add = np.array(c)+add\n",
        "# add the difference to score\n",
        "score['ESTJ'] +=  0.28\n",
        "x, t, bas, nbas = simplex(c_add, np.array(A), np.array(b))\n",
        "printResults(x[:16])\n",
        "# remove the differenece again\n",
        "score['ESTJ'] -=  0.28"
      ]
    },
    {
      "cell_type": "markdown",
      "metadata": {},
      "source": [
        "We see that this acts like we expect since when we increase $c_\\text{ESTJ}$ by more than its reduced costs ESTJ joins the team and if we dont, it stays in the nonbasis."
      ]
    },
    {
      "cell_type": "markdown",
      "metadata": {},
      "source": [
        "### **c)** *Find the personality type that just made the team using the final simplex tableu*\n",
        "* Find the personality type that just made the team using the final Simplex tableau.\n",
        "\n",
        "* How much must its contribution decrease before it is dropped?\n",
        "\n",
        "* Which personality type would replace it?\n"
      ]
    },
    {
      "cell_type": "markdown",
      "metadata": {},
      "source": [
        "#### **Solution**"
      ]
    },
    {
      "cell_type": "markdown",
      "metadata": {},
      "source": [
        "When talking abaout which type just made it we mean which variable in the basis has the smallest allowable decrease. Then we calculate the range for $c$ s.t. the optimality of the basic solution is held."
      ]
    },
    {
      "cell_type": "code",
      "execution_count": 10,
      "metadata": {},
      "outputs": [
        {
          "name": "stdout",
          "output_type": "stream",
          "text": [
            "personality ENTP -> (-0.0299999999999998 <= dc) & (dc <= 0.0300000000000011)\n",
            "personality ISFP -> (-0.0300000000000002 <= dc) & (dc <= 0.0299999999999998)\n",
            "personality ENTJ -> (-0.0150000000000001 <= dc) & (dc <= 0.0199999999999996)\n",
            "personality ESFP -> (-0.12 <= dc) & (dc < oo)\n",
            "personality ISTJ -> (-0.0299999999999998 <= dc) & (dc <= 0.04)\n",
            "personality ENFP -> (-0.02 <= dc) & (dc <= 0.04)\n",
            "personality INTJ -> (-0.02 <= dc) & (dc <= 0.0300000000000002)\n"
          ]
        }
      ],
      "source": [
        "for i in range(len(basis)):\n",
        "    if basis[i] < 16:\n",
        "        var_index = basis[i]\n",
        "        dc = sp.symbols('dc')\n",
        "        arr = [dc if j == i else 0 for j in range(len(basis))]\n",
        "        cb = sp.Matrix(chat[basis]).T + sp.Matrix(arr).T\n",
        "        cn = sp.Matrix(chat[nonbasis]).T\n",
        "        # Compute the reduced costs\n",
        "        zn = invBN.T @ cb.T - cn.T\n",
        "\n",
        "        # Solve for the allowable range\n",
        "        crange = []\n",
        "        for i in range(len(c)):\n",
        "            tmp = zn[i] >= 0\n",
        "            if tmp != False and tmp != True:\n",
        "                crange.append(tmp)\n",
        "\n",
        "        crange = sp.solvers.inequalities.reduce_inequalities(crange)\n",
        "        print(f'personality {personalities[var_index]} -> {crange}')"
      ]
    },
    {
      "cell_type": "markdown",
      "metadata": {},
      "source": [
        "Then we can see that the variable with the smallest allowable decrease is *ENTJ*.\n",
        "\n",
        "***How much is it's contribution decreased before it is dropped?***\n",
        "\n",
        "By the ranges calculated from the final simplex tableau shown above we can see that the contribution of variable *ENTJ* must be decreased by more than 0.015 to remove the optimality of the curreent solution.\n",
        "\n",
        "***Which personality type would replace it?***\n",
        "\n",
        "When we drop the allowable range the solution becomes non-optimal. We have the condition $$\\overline z = (B^{-1}N)^T\\overline c_B - \\overline c_N\\geq 0$$ for the problem to remain optimal. Let us then decrease $c_\\text{ENTJ}$ by more than it allowable decrease. "
      ]
    },
    {
      "cell_type": "code",
      "execution_count": 60,
      "metadata": {},
      "outputs": [
        {
          "name": "stdout",
          "output_type": "stream",
          "text": [
            "The reduced costs z_n:\n",
            "[[-0.000199999999999534]\n",
            " [0.0549000000000004]\n",
            " [0.160000000000000]\n",
            " [0.254900000000001]\n",
            " [0.0350999999999999]\n",
            " [0.265100000000000]\n",
            " [0.215100000000000]\n",
            " [0.334900000000000]\n",
            " [0.290000000000000]\n",
            " [0.0248999999999997]\n",
            " [0.132450000000000]\n",
            " [0.0500000000000000]\n",
            " [0.0225499999999998]\n",
            " [0.0324500000000001]\n",
            " [2.73745000000000]\n",
            " [0.135100000000000]]\n",
            "The 0 element of z_n has the smallest value which means that variable ESFJ will go into the basis\n"
          ]
        }
      ],
      "source": [
        "argInPers = list(personalities).index('ENTJ')\n",
        "argInBasis = list(basis).index(argInPers)\n",
        "arr = [-0.0151 if j == argInBasis else 0 for j in range(len(basis))]\n",
        "cb = sp.Matrix(chat[basis]).T + sp.Matrix(arr).T\n",
        "cn = sp.Matrix(chat[nonbasis]).T\n",
        "# Compute the reduced costs\n",
        "zn = invBN.T @ cb.T - cn.T\n",
        "print('The reduced costs z_n:')\n",
        "print(np.array(zn))\n",
        "print(f'The {np.argmin(zn)} element of z_n has the smallest value which means that variable {personalities[nonbasis[np.argmin(zn)]]} will go into the basis')"
      ]
    },
    {
      "cell_type": "markdown",
      "metadata": {},
      "source": [
        "When we lower the $c_j$ value for ENTJ by more then the allowable decrease the reduced costs will become as above. Then we detirmined that $z_\\text{ESFJ}$ became smallest and negative. Then it joins the basis as ENTJ leaves it. This is compareable to what we learnt about that the value with the smallest negative value in the objective function is chosen to join the basis."
      ]
    },
    {
      "cell_type": "markdown",
      "metadata": {},
      "source": [
        "### **d)** Impact of Increasing Lower Bounds\n",
        "\n",
        "* Using the final Simplex tableau, analyze how increasing the lower bound for Explorers, Analysts, Diplomats, or Sentinels by 1 affects:\n",
        "    * The overall team composition\n",
        "    * The total contribution score"
      ]
    },
    {
      "cell_type": "markdown",
      "metadata": {},
      "source": [
        "#### **Solution:**"
      ]
    },
    {
      "cell_type": "markdown",
      "metadata": {},
      "source": [
        "Let us begin by writing a function that visualizes the final simplex tableau."
      ]
    },
    {
      "cell_type": "code",
      "execution_count": 61,
      "metadata": {},
      "outputs": [],
      "source": [
        "import pandas as pd\n",
        "def display_simplex_tableau(Table, basis, decision_vars):\n",
        "    rounded_table = np.round(Table, 4)\n",
        "    df= pd.DataFrame(rounded_table)\n",
        "    df.index = [\"OBJ\"] + [f\"{personalities[b]}\" if b<16 else f\"y_{b-16}\" for b in basis]\n",
        "    df.columns = [f\"col{i}\" for i in range(Table.shape[1])]\n",
        "    if decision_vars and len(decision_vars) <= Table.shape[1]:\n",
        "        df.columns = decision_vars + [f\"y_{i-len(decision_vars)}\" for i in range(len(decision_vars), Table.shape[1]-1)] + ['RHS']\n",
        "    print(df.to_string(index=True, header=True))\n",
        "    print(\"\")\n",
        "    return df\n"
      ]
    },
    {
      "cell_type": "code",
      "execution_count": 62,
      "metadata": {},
      "outputs": [
        {
          "name": "stdout",
          "output_type": "stream",
          "text": [
            "      ESFP  ESFJ  ENTJ  ENTP  ENFJ  ESTP  ENFP  ESTJ  ISTJ  INTJ  ISFP  INFP  ISTP  INTP  ISFJ  INFJ  y_0  y_1   y_2  y_3   y_4  y_5   y_6  y_7    y_8  y_9  y_10  y_11   y_12  y_13  y_14  y_15  y_16  y_17  y_18  y_19  y_20  y_21  y_22  y_23  y_24  y_25  y_26  y_27  y_28  y_29    RHS\n",
            "OBJ    0.0  0.03   0.0   0.0  0.07  0.16   0.0  0.27   0.0   0.0   0.0  0.02  0.25   0.2  0.35  0.29  0.0  0.0  0.04  0.0  0.14  0.0  0.05  0.0  0.015  0.0  0.04   0.0  2.745   0.0  0.12   0.0   0.0   0.0   0.0   0.0   0.0   0.0   0.0   0.0   0.0   0.0   0.0   0.0   0.0   0.0  19.54\n",
            "ENTP   0.0 -1.00   0.0   1.0 -1.00  1.00   0.0  0.00   0.0   0.0   0.0  0.00  1.00   1.0 -1.00 -1.00  0.0  0.0  0.00  0.0  0.00  0.0  0.00  0.0  0.500  0.0 -0.50   0.0  0.000   0.0 -0.00   0.0   0.0   0.0   0.0   0.0   0.0   0.0   0.0   0.0   0.0   0.0   0.0   0.0   0.0   0.0   0.00\n",
            "ISFP   0.0  1.00   0.0   0.0 -0.00 -0.00   0.0  0.00   0.0   0.0   1.0  0.00 -0.00   0.0  1.00  0.00  0.0  0.0  1.00  0.0  0.00  0.0  0.00  0.0 -0.500  0.0  0.00   0.0  0.500   0.0 -1.00   0.0   0.0   0.0   0.0   0.0   0.0   0.0   0.0   0.0   0.0   0.0   0.0   0.0   0.0   0.0   1.00\n",
            "ENTJ   0.0  2.00   1.0   0.0  1.00 -0.00   0.0  1.00   0.0   0.0   0.0 -1.00 -1.00  -1.0  1.00  0.00  0.0  0.0  1.00  0.0  0.50  0.0  0.00  0.0 -0.500  0.0  0.50   0.0  0.500   0.0 -1.00   0.0   0.0   0.0   0.0   0.0   0.0   0.0   0.0   0.0   0.0   0.0   0.0   0.0   0.0   0.0   2.00\n",
            "y_3    0.0 -1.00   0.0   0.0  0.00  1.00   0.0  0.00   0.0   0.0   0.0  0.00  1.00   0.0 -1.00  0.00  0.0  0.0 -1.00  1.0  0.00  0.0  0.50  0.0  0.500  0.0  0.00   0.0  0.000   0.0 -0.00   0.0   0.0   0.0   0.0   0.0   0.0   0.0   0.0   0.0   0.0   0.0   0.0   0.0   0.0   0.0   1.00\n",
            "ESFP   1.0  0.00   0.0   0.0  0.00  0.00   0.0  0.00   0.0   0.0   0.0  0.00  0.00   0.0  0.00  0.00  0.0  0.0  0.00  0.0  0.00  0.0  0.00  0.0  0.000  0.0  0.00   0.0  0.000   0.0  1.00   0.0   0.0   0.0   0.0   0.0   0.0   0.0   0.0   0.0   0.0   0.0   0.0   0.0   0.0   0.0   1.00\n",
            "y_5    0.0  0.00   0.0   0.0  0.00  0.00   0.0  0.00   0.0   0.0   0.0  0.00  0.00   0.0  0.00  0.00  0.0  0.0  0.00  0.0  1.00  1.0  0.00  0.0  0.000  0.0  0.00   0.0  0.000   0.0  0.00   0.0   0.0   0.0   0.0   0.0   0.0   0.0   0.0   0.0   0.0   0.0   0.0   0.0   0.0   0.0   2.00\n",
            "ISTJ   0.0  0.00   0.0   0.0 -0.00  1.00   0.0  1.00   1.0   0.0   0.0  0.00  1.00   0.0  0.00  0.00  0.0  0.0 -1.00  0.0  0.00  0.0  0.50  0.0  0.500  0.0  0.00   0.0  0.000   0.0  0.00   0.0   0.0   0.0   0.0   0.0   0.0   0.0   0.0   0.0   0.0   0.0   0.0   0.0   0.0   0.0   2.00\n",
            "y_7    0.0  0.00   0.0   0.0  0.00  0.00   0.0  0.00   0.0   0.0   0.0  0.00  0.00   0.0  0.00  0.00  0.0  0.0  0.00  0.0  0.00  0.0  1.00  1.0  0.000  0.0  0.00   0.0  0.000   0.0  0.00   0.0   0.0   0.0   0.0   0.0   0.0   0.0   0.0   0.0   0.0   0.0   0.0   0.0   0.0   0.0   2.00\n",
            "y_13   0.0  0.00   0.0   0.0  0.00  0.00   0.0  0.00   0.0   0.0   0.0  0.00  0.00   0.0  0.00  0.00  0.0  0.0  0.00  0.0  0.00  0.0  0.00  0.0  0.000  0.0  0.00   0.0  1.000   1.0  0.00   0.0   0.0   0.0   0.0   0.0   0.0   0.0   0.0   0.0   0.0   0.0   0.0   0.0   0.0   0.0   2.00\n",
            "y_9    0.0  0.00   0.0   0.0  0.00  0.00   0.0  0.00   0.0   0.0   0.0  0.00  0.00   0.0  0.00  0.00  0.0  0.0  0.00  0.0  0.00  0.0  0.00  0.0  1.000  1.0  0.00   0.0  0.000   0.0  0.00   0.0   0.0   0.0   0.0   0.0   0.0   0.0   0.0   0.0   0.0   0.0   0.0   0.0   0.0   0.0   2.00\n",
            "y_1    0.0  0.00   0.0   0.0 -0.00 -0.00   0.0  0.00   0.0   0.0   0.0  0.00 -0.00   0.0  0.00  0.00  0.0  1.0  1.00  0.0  0.00  0.0 -0.50  0.0 -0.000  0.0  0.00   0.0  0.500   0.0  0.00   0.0   0.0   0.0   0.0   0.0   0.0   0.0   0.0   0.0   0.0   0.0   0.0   0.0   0.0   0.0   1.00\n",
            "y_11   0.0  0.00   0.0   0.0  0.00  0.00   0.0  0.00   0.0   0.0   0.0  0.00  0.00   0.0  0.00  0.00  0.0  0.0  0.00  0.0  0.00  0.0  0.00  0.0  0.000  0.0  1.00   1.0  0.000   0.0  0.00   0.0   0.0   0.0   0.0   0.0   0.0   0.0   0.0   0.0   0.0   0.0   0.0   0.0   0.0   0.0   2.00\n",
            "y_0    0.0  1.00   0.0   0.0 -0.00 -1.00   0.0  0.00   0.0   0.0   0.0  0.00 -1.00   0.0  1.00  0.00  1.0  0.0  1.00  0.0  0.00  0.0  0.00  0.0 -0.500  0.0  0.00   0.0  0.500   0.0  0.00   0.0   0.0   0.0   0.0   0.0   0.0   0.0   0.0   0.0   0.0   0.0   0.0   0.0   0.0   0.0   1.00\n",
            "ENFP   0.0  0.00   0.0   0.0  1.00  0.00   1.0  0.00   0.0   0.0   0.0  1.00  0.00   0.0  0.00  1.00  0.0  0.0 -1.00  0.0  0.00  0.0  0.00  0.0  0.000  0.0  0.00   0.0  0.000   0.0  0.00   0.0   0.0   0.0   0.0   0.0   0.0   0.0   0.0   0.0   0.0   0.0   0.0   0.0   0.0   0.0   1.00\n",
            "INTJ   0.0 -1.00   0.0   0.0  0.00 -1.00   0.0 -1.00   0.0   1.0   0.0  1.00  0.00   1.0  0.00  1.00  0.0  0.0 -0.00  0.0 -0.50  0.0 -0.50  0.0  0.000  0.0  0.00   0.0 -0.000   0.0  1.00   0.0   0.0   0.0   0.0   0.0   0.0   0.0   0.0   0.0   0.0   0.0   0.0   0.0   0.0   0.0   0.00\n",
            "y_15   0.0  1.00   0.0   0.0  0.00  0.00   0.0  0.00   0.0   0.0   0.0  0.00  0.00   0.0  0.00  0.00  0.0  0.0  0.00  0.0  0.00  0.0  0.00  0.0  0.000  0.0  0.00   0.0  0.000   0.0  0.00   1.0   0.0   0.0   0.0   0.0   0.0   0.0   0.0   0.0   0.0   0.0   0.0   0.0   0.0   0.0   3.00\n",
            "y_16   0.0 -2.00   0.0   0.0 -1.00  0.00   0.0 -1.00   0.0   0.0   0.0  1.00  1.00   1.0 -1.00  0.00  0.0  0.0 -1.00  0.0 -0.50  0.0  0.00  0.0  0.500  0.0 -0.50   0.0 -0.500   0.0  1.00   0.0   1.0   0.0   0.0   0.0   0.0   0.0   0.0   0.0   0.0   0.0   0.0   0.0   0.0   0.0   7.00\n",
            "y_17   0.0  1.00   0.0   0.0  1.00 -1.00   0.0  0.00   0.0   0.0   0.0  0.00 -1.00  -1.0  1.00  1.00  0.0  0.0 -0.00  0.0  0.00  0.0  0.00  0.0 -0.500  0.0  0.50   0.0 -0.000   0.0  0.00   0.0   0.0   1.0   0.0   0.0   0.0   0.0   0.0   0.0   0.0   0.0   0.0   0.0   0.0   0.0   6.00\n",
            "y_18   0.0  0.00   0.0   0.0  1.00  0.00   0.0  0.00   0.0   0.0   0.0  0.00  0.00   0.0  0.00  0.00  0.0  0.0  0.00  0.0  0.00  0.0  0.00  0.0  0.000  0.0  0.00   0.0  0.000   0.0  0.00   0.0   0.0   0.0   1.0   0.0   0.0   0.0   0.0   0.0   0.0   0.0   0.0   0.0   0.0   0.0   2.00\n",
            "y_19   0.0  0.00   0.0   0.0  0.00  1.00   0.0  0.00   0.0   0.0   0.0  0.00  0.00   0.0  0.00  0.00  0.0  0.0  0.00  0.0  0.00  0.0  0.00  0.0  0.000  0.0  0.00   0.0  0.000   0.0  0.00   0.0   0.0   0.0   0.0   1.0   0.0   0.0   0.0   0.0   0.0   0.0   0.0   0.0   0.0   0.0   3.00\n",
            "y_20   0.0  0.00   0.0   0.0 -1.00  0.00   0.0  0.00   0.0   0.0   0.0 -1.00  0.00   0.0  0.00 -1.00  0.0  0.0  1.00  0.0  0.00  0.0  0.00  0.0  0.000  0.0  0.00   0.0  0.000   0.0  0.00   0.0   0.0   0.0   0.0   0.0   1.0   0.0   0.0   0.0   0.0   0.0   0.0   0.0   0.0   0.0   4.00\n",
            "y_21   0.0  0.00   0.0   0.0  0.00  0.00   0.0  1.00   0.0   0.0   0.0  0.00  0.00   0.0  0.00  0.00  0.0  0.0  0.00  0.0  0.00  0.0  0.00  0.0  0.000  0.0  0.00   0.0  0.000   0.0  0.00   0.0   0.0   0.0   0.0   0.0   0.0   1.0   0.0   0.0   0.0   0.0   0.0   0.0   0.0   0.0   4.00\n",
            "y_22   0.0  0.00   0.0   0.0  0.00 -1.00   0.0 -1.00   0.0   0.0   0.0  0.00 -1.00  -0.0  0.00  0.00  0.0  0.0  1.00  0.0  0.00  0.0 -0.50  0.0 -0.500  0.0  0.00   0.0 -0.000   0.0 -0.00   0.0   0.0   0.0   0.0   0.0   0.0   0.0   1.0   0.0   0.0   0.0   0.0   0.0   0.0   0.0   6.00\n",
            "y_23   0.0  1.00   0.0   0.0 -0.00  1.00   0.0  1.00   0.0   0.0   0.0 -1.00 -0.00  -1.0  0.00 -1.00  0.0  0.0  0.00  0.0  0.50  0.0  0.50  0.0  0.000  0.0  0.00   0.0  0.000   0.0 -1.00   0.0   0.0   0.0   0.0   0.0   0.0   0.0   0.0   1.0   0.0   0.0   0.0   0.0   0.0   0.0   8.00\n",
            "y_24   0.0 -1.00   0.0   0.0  0.00  0.00   0.0  0.00   0.0   0.0   0.0  0.00  0.00  -0.0 -1.00  0.00  0.0  0.0 -1.00  0.0  0.00  0.0  0.00  0.0  0.500  0.0  0.00   0.0 -0.500   0.0  1.00   0.0   0.0   0.0   0.0   0.0   0.0   0.0   0.0   0.0   1.0   0.0   0.0   0.0   0.0   0.0   1.00\n",
            "y_25   0.0  0.00   0.0   0.0  0.00  0.00   0.0  0.00   0.0   0.0   0.0  1.00  0.00   0.0  0.00  0.00  0.0  0.0  0.00  0.0  0.00  0.0  0.00  0.0  0.000  0.0  0.00   0.0  0.000   0.0  0.00   0.0   0.0   0.0   0.0   0.0   0.0   0.0   0.0   0.0   0.0   1.0   0.0   0.0   0.0   0.0   3.00\n",
            "y_26   0.0  0.00   0.0   0.0  0.00  0.00   0.0  0.00   0.0   0.0   0.0  0.00  1.00   0.0  0.00  0.00  0.0  0.0  0.00  0.0  0.00  0.0  0.00  0.0  0.000  0.0  0.00   0.0  0.000   0.0  0.00   0.0   0.0   0.0   0.0   0.0   0.0   0.0   0.0   0.0   0.0   0.0   1.0   0.0   0.0   0.0   3.00\n",
            "y_27   0.0  0.00   0.0   0.0  0.00  0.00   0.0  0.00   0.0   0.0   0.0  0.00  0.00   1.0  0.00  0.00  0.0  0.0  0.00  0.0  0.00  0.0  0.00  0.0  0.000  0.0  0.00   0.0  0.000   0.0  0.00   0.0   0.0   0.0   0.0   0.0   0.0   0.0   0.0   0.0   0.0   0.0   0.0   1.0   0.0   0.0   1.00\n",
            "y_28   0.0  0.00   0.0   0.0  0.00  0.00   0.0  0.00   0.0   0.0   0.0  0.00  0.00   0.0  1.00  0.00  0.0  0.0  0.00  0.0  0.00  0.0  0.00  0.0  0.000  0.0  0.00   0.0  0.000   0.0  0.00   0.0   0.0   0.0   0.0   0.0   0.0   0.0   0.0   0.0   0.0   0.0   0.0   0.0   1.0   0.0   1.00\n",
            "y_29   0.0  0.00   0.0   0.0  0.00  0.00   0.0  0.00   0.0   0.0   0.0  0.00  0.00   0.0  0.00  1.00  0.0  0.0  0.00  0.0  0.00  0.0  0.00  0.0  0.000  0.0  0.00   0.0  0.000   0.0  0.00   0.0   0.0   0.0   0.0   0.0   0.0   0.0   0.0   0.0   0.0   0.0   0.0   0.0   0.0   1.0   1.00\n",
            "\n"
          ]
        }
      ],
      "source": [
        "simplex_tableau = display_simplex_tableau(Table, basis, personalities)"
      ]
    },
    {
      "cell_type": "markdown",
      "metadata": {},
      "source": [
        "Firstly we note that $y_0$, $y_1$, $y_2$ and $y_3$ are the slack variables corresponding to the constraints that each personality group must have more than 1 member. We see from the table that their reduced costs are $0$, $0$, $0.04$ and $0$ respectively. These are excactly the shadow prices for $y_0$, $y_1$, $y_2$ and $y_3$. We have:\n",
        "- The shadow price for $y_0$ is 0\n",
        "- The shadow price for $y_1$ is 0\n",
        "- The shadow price for $y_2$ is 0.04\n",
        "- The shadow price for $y_3$ is 0\n",
        "\n",
        "The shadow price tells us how much the objective value will increase when the corresponding rhs value is changed. For $y_0$, $y_1$ and $y_3$ the shadow price is 0 so when we increase the minimum amount of members for the corresponding group i.e. decrease the rhs value by one, the objective value doesn't change. This tracks since these slack variables represent groups, Explorers, Analysts and Sentinels and they all have two members so increasing the minimum amount of members there neither affects the team nor the objective value.\n",
        "\n",
        "The shadow price of $y_2$ which represents Diplomats having at least one member is though positive with the value 0.04. This means that when we increase the minimum amount of Diplomats, decreasing $b_2$ from -1 to -2 the objective function value decreases by 0.04.\n",
        "\n",
        "We also have the condition $x_B = B^{-1}(b+\\Delta b)\\geq 0$. Now let us look at the basis values when we decrease $b_2$ by one."
      ]
    },
    {
      "cell_type": "code",
      "execution_count": 120,
      "metadata": {},
      "outputs": [
        {
          "name": "stdout",
          "output_type": "stream",
          "text": [
            "[0, 0, -1, 0, 0, 0, 0, 0, 0, 0, 0, 0, 0, 0, 0, 0, 0, 0, 0, 0, 0, 0, 0, 0, 0, 0, 0, 0, 0, 0]\n",
            "We have x_B = [ 0.  -0.9  0.1  2.9  1.   2.   3.9  2.   2.   2.  -0.9  2.  -0.9  2.9\n",
            "  0.   3.   8.9  6.   2.   3.   2.1  4.   4.1  8.   2.9  3.   3.   1.\n",
            "  1.   1. ]\n",
            "Variable ENFP with value -0.8999999999999999 is infeasible\n",
            "Variable ISFP with value -0.8999999999999999 is infeasible\n",
            "Variable y_1 with value -0.8999999999999999 is infeasible\n"
          ]
        }
      ],
      "source": [
        "b_delta = [-1 if i == 2 else 0 for i in range(30)]\n",
        "xb = invB @ (b + b_delta)\n",
        "print(f'We have x_B = {xb}')\n",
        "for i in range(30):\n",
        "    if basis[i] < 16:\n",
        "        if xb[i] <0:\n",
        "            print(f'Variable {personalities[basis[i]]} with value {xb[i]} is infeasible')\n",
        "    else:\n",
        "        if xb[i] <0:\n",
        "            print(f'Variable y_{basis[i]-16} with value {xb[i]} is infeasible')"
      ]
    },
    {
      "cell_type": "markdown",
      "metadata": {},
      "source": [
        "So the values for these three variables break the feasability of our solution so we must remove at least one from the basis and pivot to restore feasibiltiy."
      ]
    },
    {
      "cell_type": "markdown",
      "metadata": {},
      "source": [
        "### **e)** Impact of Decreasing Upper Bounds\n",
        "* What happens when we decide to decrease the allowable number of students in a team down to five? How does the basis solution change?\n"
      ]
    },
    {
      "cell_type": "markdown",
      "metadata": {},
      "source": [
        "#### **Solution:**"
      ]
    },
    {
      "cell_type": "markdown",
      "metadata": {},
      "source": [
        "We note that $y_{12}$ is the slack variable representing the constraint $\\sum_{i=0}^{16}x_i \\leq 7 = b_{12}$. We note that this constraint is tight since $\\sum_{i=0}^{16}=b_{12}$. We can also see from the final tableau that the shadow price is non zero and its value is $2.745$. This means that when we decrease the value of $b_{12}$ from 7 to 5 both the basis must change since the constraint is tight and the objective value will decrease significally (a factor of 2.745). \n",
        "\n",
        "Again do we then look at the condition $x_B = B^{-1}(b+\\Delta b)\\geq 0$. Let us decrease $b_{12}$ by two and observe the basis."
      ]
    },
    {
      "cell_type": "code",
      "execution_count": 124,
      "metadata": {},
      "outputs": [
        {
          "name": "stdout",
          "output_type": "stream",
          "text": [
            "We have x_B = [ 0.  -0.9  0.1  1.9  1.   2.   2.9  2.   0.   2.  -0.9  2.  -0.9  1.9\n",
            "  0.   3.   8.9  6.   2.   3.   3.1  4.   5.1  8.   2.9  3.   3.   1.\n",
            "  1.   1. ]\n",
            "Variable ENFP with value -0.8999999999999999 is infeasible\n",
            "Variable ISFP with value -0.8999999999999999 is infeasible\n",
            "Variable y_1 with value -0.8999999999999999 is infeasible\n"
          ]
        }
      ],
      "source": [
        "b_delta = [-2 if i == 12 else 0 for i in range(30)]\n",
        "xb = invB @ (b + b_delta)\n",
        "print(f'We have x_B = {xb}')\n",
        "for i in range(30):\n",
        "    if basis[i] < 16:\n",
        "        if xb[i] <0:\n",
        "            print(f'Variable {personalities[basis[i]]} with value {xb[i]} is infeasible')\n",
        "    else:\n",
        "        if xb[i] <0:\n",
        "            print(f'Variable y_{basis[i]-16} with value {xb[i]} is infeasible')"
      ]
    },
    {
      "cell_type": "markdown",
      "metadata": {},
      "source": [
        "Here we again see which variables break feasibilty and must be pivoted around to try to restore it. It i sinteresting to note that these are excactly the same variables as in d) above. Finally lets perform the simplex algorithm on the new problem to see how the solution changes."
      ]
    },
    {
      "cell_type": "code",
      "execution_count": 125,
      "metadata": {},
      "outputs": [
        {
          "name": "stdout",
          "output_type": "stream",
          "text": [
            "Team combination:\n",
            "Personality ESFP, Entertainer, with 1 members\n",
            "Personality ENFJ, Protagonist, with 1 members\n",
            "Personality ENFP, Campaigner, with 1 members\n",
            "Personality ISTJ, Logistician, with 1 members\n",
            "Personality INTJ, Architect, with 1 members\n",
            "\n",
            "Total score: 13.81\n",
            "Total members: 5\n",
            "\n",
            "Number of members in each MBTI group:\n",
            "Group Explorers with 1 members\n",
            "Group Analysts with 1 members\n",
            "Group Diplomats with 2 members\n",
            "Group Sentinels with 1 members\n",
            "\n",
            "Numbr of members along eack key trait:\n",
            "Trait E, Extroversion, has 3 members\n",
            "Trait I, Introversion, has 2 members\n",
            "Trait S, Sensing, has 2 members\n",
            "Trait N, Intuition, has 3 members\n",
            "Trait F, Feeling, has 3 members\n",
            "Trait T, Thinking, has 2 members\n",
            "Trait P, Perceiving, has 2 members\n",
            "Trait J, Judging, has 3 members\n"
          ]
        }
      ],
      "source": [
        "# define b_add to tighten the constraints to be from 3 to 5 instead of 5 to 7\n",
        "b_add = [-2 if i == 12 else 0 for i in range(30)]\n",
        "b_add[13] = 2\n",
        "x_1, table_1, basis_1, nonbasis_1 = simplex(np.array(c), np.array(A),np.array(b)+np.array(b_add))\n",
        "printResults(x_1[:16])"
      ]
    },
    {
      "cell_type": "markdown",
      "metadata": {
        "id": "iBg7i5WlUPh5"
      },
      "source": [
        "## 4. Formulate and Interpret the Dual Problem\n",
        "\n",
        "- Write the dual of the original LP.\n",
        "- Describe its interpretation in the context of team formation.\n",
        "    - What do the dual variables represent?\n",
        "    - How does the dual provide insight into the importance of different constraints?\n"
      ]
    },
    {
      "cell_type": "markdown",
      "metadata": {},
      "source": [
        "### **Solution:**"
      ]
    },
    {
      "cell_type": "markdown",
      "metadata": {},
      "source": [
        "#### Write the dual of the original LP.\n",
        "Let us begin by defining the primal problem in standard form. We have:\n",
        "\n",
        "**Primal:**\n",
        "$$\n",
        "\\underset{x_1, \\dots x_{16}}{\\max} \\zeta = \\sum_{j=1}^{16}c_jx_j\n",
        "$$\n",
        "such that\n",
        "$$\n",
        "\\begin{align*}\n",
        "&\\sum_{j=1}^{16}-a_{kj}x_j \\leq -1 \\quad \\text{for all } k\\in\\{a,e,s,d\\}\\\\\n",
        "&\\sum_{j=1}^{16}d_{r_1j}x_j-d_{r_2j}x_j \\leq 1 \\quad \\text{for all } (r_1,r_2) \\in \\{(E,I),(S,N),(T,F),(J,P)\\}\\\\\n",
        "&\\sum_{j=1}^{16}d_{r_2j}x_j-d_{r_1j}x_j \\leq 1 \\quad \\text{for all } (r_1,r_2) \\in \\{(E,I),(S,N),(T,F),(J,P)\\}\\\\\n",
        "&\\sum_{j=1}^{16}x_j \\leq 7\\\\\n",
        "&\\sum_{j=1}^{16}-x_j \\leq -5\\\\\n",
        "&\\sum_{j=1}^{16}e_ix_j \\leq q_i \\quad \\text{for all } i = 1, \\dots, 16\n",
        "\\end{align*}\n",
        "$$\n",
        "and $x_j\\geq 0$ for $j=1,\\dots, 16$. From this we have matrix A and vector b\n",
        "$$A = \n",
        "\\begin{bmatrix}\n",
        "-a_a\\\\\n",
        "-a_e\\\\\n",
        "-a_s\\\\\n",
        "-a_d\\\\\n",
        "d_E-d_I\\\\\n",
        "d_S-d_N\\\\\n",
        "d_T-d_F\\\\\n",
        "d_J-d_P\\\\\n",
        "d_I-d_E\\\\\n",
        "d_N-d_S\\\\\n",
        "d_F-d_T\\\\\n",
        "d_P-d_J\\\\\n",
        "\\overline 1\\\\\n",
        "-\\overline 1\\\\\n",
        "e_1\\\\\n",
        "\\vdots \\\\\n",
        "e_{16}\n",
        "\\end{bmatrix}, \\; b= \n",
        "\\begin{bmatrix}\n",
        "-1\\\\\n",
        "-1\\\\\n",
        "-1\\\\\n",
        "-1\\\\\n",
        "1\\\\\n",
        "1\\\\\n",
        "1\\\\\n",
        "1\\\\\n",
        "1\\\\\n",
        "1\\\\\n",
        "1\\\\\n",
        "1\\\\\n",
        "7\\\\\n",
        "-5\\\\\n",
        "q_1\\\\\n",
        "\\vdots \\\\\n",
        "q_{16}\n",
        "\\end{bmatrix}\n",
        "$$\n",
        "Then we can state the dual problem as:\n",
        "\n",
        "**Dual:**\n",
        "\n",
        "$$\n",
        "\\underset{y_1,\\dots, y_{30} }{\\min} \\xi  = \\sum_{i=1}^{30}b_iy_i\n",
        "$$\n",
        "\n",
        "subject to\n",
        "\n",
        "$$\n",
        "\\sum_{i=1}^{30}y_iA_{ij} \\geq c_j\n",
        "$$\n",
        "and $y_i\\geq 0$ for $i=1,\\dots, 30$."
      ]
    },
    {
      "cell_type": "markdown",
      "metadata": {},
      "source": [
        "#### Describe its interpretation in the context of team formation.\n",
        "\n",
        "In our dual problem the dual variables show us how the constraints affect the team building, that is the how much we sacrifice the optimal solution by adding constraints.\n",
        "\n",
        "We begin by noting that at optimality the dual variables denote the shadow price for each contraint i.e. how the optimal value would change if the constraint was relaxed by one unit. But generally the dual variables can be split in 5 groups depending on their corresponding constraint.\n",
        "\n",
        "- $ y_1-y_4 $ -> They represent the cost of ensuring that each personality group has one member i.e  the bigger they are the more the constraint is costing the optimal value. We saw this in 3d, $y_3$ ($y_2$ in 3 because of python indexing) had a value 0.04 which meant if we would relax this constraint by one we could increase the optimal value by 0.04.\n",
        "- $y_5-y_{12}$ -> They represent the cost of keeping a balanced team.\n",
        "- $y_{13}$ -> Represents the cost of keeping the team under 7 members. We saw that $y_{13}$ was very positive which means that the constraint was very restricting and increasing the team size would have given a better optimal value.\n",
        "- $y_{14}$ -> Represents the cost of keeping the team under 5 members.\n",
        "- $y_{15}-y_{30}$ -> Represents the cost of just using the avaialable members. We could for example see that if some $y$ is very big here, finding an extra candidate of the corresponding personality type could benefit the teams score.\n",
        "\n",
        "All these variables tell us how the constraints we set affect the final team score. If they are positive the constraint is restricting and if they are zero additional flexibilty in the constraints have no value.\n",
        "\n",
        "And based on the dual values we can determine if we want to relax or tighten constraints to better our results. Let's take a couple exxamples.\n",
        "\n",
        "- y_{15} = 0.12 and $y_{15}$ is the dual variable corresponding to the constraint of available *ESFP* personalities. Because it is positive having an extra person of this peronality type would improve our benefit score by 0.12.\n",
        "- y_{16} = 0 and $y_{16}$ is the dual variable corresponding to the constraint of available *ESFJ* personalities. Because it is 0e having an extra person of this peronality type would not improve our benefit score.\n"
      ]
    }
  ],
  "metadata": {
    "colab": {
      "provenance": []
    },
    "kernelspec": {
      "display_name": "Python 3",
      "name": "python3"
    },
    "language_info": {
      "codemirror_mode": {
        "name": "ipython",
        "version": 3
      },
      "file_extension": ".py",
      "mimetype": "text/x-python",
      "name": "python",
      "nbconvert_exporter": "python",
      "pygments_lexer": "ipython3",
      "version": "3.9.6"
    }
  },
  "nbformat": 4,
  "nbformat_minor": 0
}
