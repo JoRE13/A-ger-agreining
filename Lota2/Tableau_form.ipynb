{
  "nbformat": 4,
  "nbformat_minor": 0,
  "metadata": {
    "colab": {
      "provenance": []
    },
    "kernelspec": {
      "name": "python3",
      "display_name": "Python 3"
    },
    "language_info": {
      "name": "python"
    }
  },
  "cells": [
    {
      "cell_type": "code",
      "execution_count": null,
      "metadata": {
        "colab": {
          "base_uri": "https://localhost:8080/"
        },
        "id": "uXS_QhUpUxeD",
        "outputId": "37f70da7-8bfa-4eb5-c472-8bef0585c2b3"
      },
      "outputs": [
        {
          "output_type": "stream",
          "name": "stdout",
          "text": [
            "Initial Tableau:\n",
            "     x1   x2   x3   x4   x5   rhs\n",
            "z  -3.0 -2.0  0.0  0.0  0.0   0.0\n",
            "x3 -1.0  3.0  1.0  0.0  0.0  12.0\n",
            "x4  1.0  1.0  0.0  1.0  0.0   8.0\n",
            "x5  2.0 -1.0  0.0  0.0  1.0  10.0\n",
            "\n",
            "Tableau after first pivot:\n",
            "     x1   x2   x3   x4   x5   rhs\n",
            "z   0.0 -3.5  0.0  0.0  1.5  15.0\n",
            "x3  0.0  2.5  1.0  0.0  0.5  17.0\n",
            "x4  0.0  1.5  0.0  1.0 -0.5   3.0\n",
            "x1  1.0 -0.5  0.0  0.0  0.5   5.0\n",
            "\n",
            "Tableau after second pivot:\n",
            "     x1   x2   x3        x4        x5   rhs\n",
            "z   0.0  0.0  0.0  2.333333  0.333333  22.0\n",
            "x3  0.0  0.0  1.0 -1.666667  1.333333  12.0\n",
            "x2  0.0  1.0  0.0  0.666667 -0.333333   2.0\n",
            "x1  1.0  0.0  0.0  0.333333  0.333333   6.0\n"
          ]
        }
      ],
      "source": [
        "import numpy as np\n",
        "import pandas as pd\n",
        "\n",
        "# Define the Simplex pivot function\n",
        "def pivot(Table, row_idx, col_idx):\n",
        "    \"\"\"\n",
        "    Perform a Simplex pivot on the given table.\n",
        "    Arguments:\n",
        "    - Table: The Simplex tableau as a NumPy array.\n",
        "    - row_idx: The index of the row where the pivot element is located.\n",
        "    - col_idx: The index of the column where the pivot element is located.\n",
        "\n",
        "    Returns:\n",
        "    - Updated Simplex tableau after the pivot operation.\n",
        "    \"\"\"\n",
        "    # Normalize the pivot row\n",
        "    Table[row_idx, :] /= Table[row_idx, col_idx]\n",
        "    # Update all other rows\n",
        "    for k in range(Table.shape[0]):\n",
        "        if k != row_idx:\n",
        "            Table[k, :] -= Table[k, col_idx] * Table[row_idx, :]\n",
        "    return Table\n",
        "\n",
        "# Define the problem\n",
        "b = np.array([12, 8, 10])\n",
        "c = np.array([3, 2])\n",
        "A = np.array([[-1, 3], [1, 1], [2, -1]])\n",
        "\n",
        "# Initialize the Simplex tableau\n",
        "n = len(c)  # Number of decision variables\n",
        "m = len(b)  # Number of constraints\n",
        "\n",
        "# Create the initial tableau\n",
        "Table = np.zeros((m + 1, n + m + 1))\n",
        "Table[0, :n] = -c  # Objective function row\n",
        "Table[1:, :n] = A  # Coefficient matrix for constraints\n",
        "Table[1:, n:n + m] = np.eye(m)  # Slack variables\n",
        "Table[1:, -1] = b  # Right-hand side values\n",
        "\n",
        "# Track the basic variables\n",
        "basic_set = [f\"x{n+i+1}\" for i in range(m)]\n",
        "column_names = [f\"x{i+1}\" for i in range(n + m)] + ['rhs']\n",
        "row_names = ['z'] + basic_set\n",
        "\n",
        "# Print the initial tableau\n",
        "df = pd.DataFrame(Table, columns=column_names, index=row_names)\n",
        "print(\"Initial Tableau:\")\n",
        "print(df)\n",
        "\n",
        "# Perform pivots\n",
        "# First pivot: Pivot around x5 and x1\n",
        "row_idx = 3  # Row of x5\n",
        "col_idx = 0  # Column of x1 (indexing starts at 0)\n",
        "Table = pivot(Table, row_idx, col_idx)\n",
        "basic_set[row_idx - 1] = 'x1'  # Update basic variable set\n",
        "row_names = ['z'] + basic_set\n",
        "df = pd.DataFrame(Table, columns=column_names, index=row_names)\n",
        "print(\"\\nTableau after first pivot:\")\n",
        "print(df)\n",
        "\n",
        "# Second pivot: Pivot around x4 and x2\n",
        "row_idx = 2  # Row of x4\n",
        "col_idx = 1  # Column of x2\n",
        "Table = pivot(Table, row_idx, col_idx)\n",
        "basic_set[row_idx - 1] = 'x2'  # Update basic variable set\n",
        "row_names = ['z'] + basic_set\n",
        "df = pd.DataFrame(Table, columns=column_names, index=row_names)\n",
        "print(\"\\nTableau after second pivot:\")\n",
        "print(df)\n"
      ]
    }
  ]
}