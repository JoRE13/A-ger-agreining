{
 "cells": [
  {
   "cell_type": "code",
   "execution_count": 2,
   "metadata": {},
   "outputs": [],
   "source": [
    "import numpy as np"
   ]
  },
  {
   "cell_type": "code",
   "execution_count": 3,
   "metadata": {},
   "outputs": [],
   "source": [
    "def interior_point(A, b, c, x_init, lambda_init=None, mu_init=None,\n",
    "                          maxit=1000, eps=1e-6, sigma=0.2):\n",
    "    \"\"\"\n",
    "    Interior Point Method for Linear Programming (Affine Scaling).\n",
    "\n",
    "    Args:\n",
    "        A (np.array): Constraint matrix (m x n).\n",
    "        b (np.array): RHS of constraints (m,).\n",
    "        c (np.array): Objective coefficients (n,).\n",
    "        x_init (np.array): Initial primal variables (n,).\n",
    "        lambda_init (np.array): Initial equality dual variables (m,) (optional).\n",
    "        mu_init (np.array): Initial inequality dual variables (n,) (optional).\n",
    "        maxit (int): Maximum iterations.\n",
    "        eps (float): Convergence tolerance.\n",
    "        sigma (float): Scaling parameter.\n",
    "\n",
    "    Returns:\n",
    "        np.array: Optimal primal solution.\n",
    "        int: Number of iterations.\n",
    "    \"\"\"\n",
    "    # Ensure feasibility of the initial solution\n",
    "    assert np.all(x_init >= 0), \"Initial x must be feasible (x >= 0)\"\n",
    "    assert np.allclose(A @ x_init, b), \"Initial x must satisfy Ax = b\"\n",
    "    m, n = A.shape\n",
    "    assert m < n, \"Number of constraints must be less than number of variables\"\n",
    "\n",
    "    # Initialize dual variables if not provided\n",
    "    lambdas = lambda_init if lambda_init is not None else np.ones(m)\n",
    "    mus = mu_init if mu_init is not None else np.ones(n)\n",
    "\n",
    "    # Helper function: Unpack primal-dual variables\n",
    "    def unpack(pdvars):\n",
    "        return pdvars[:n], pdvars[n:n + m], pdvars[n + m:]\n",
    "\n",
    "    # Combine primal and dual variables\n",
    "    pdvars = np.concatenate([x_init, lambdas, mus])\n",
    "    c = c.ravel()\n",
    "\n",
    "    for iteration in range(maxit):\n",
    "        # Unpack current primal and dual variables\n",
    "        x, lambdas, mus = unpack(pdvars)\n",
    "\n",
    "        # Compute duality measure\n",
    "        duality_measure = np.dot(x, mus) / n\n",
    "\n",
    "        # Build RHS of KKT system\n",
    "        rhs = np.hstack([\n",
    "            A.T @ lambdas + mus - c,   # Gradient of Lagrangian\n",
    "            A @ x - b,                # Primal feasibility\n",
    "            x * mus - sigma * duality_measure  # Complementarity\n",
    "        ])\n",
    "\n",
    "        # Build KKT system (Jacobian matrix)\n",
    "        J = np.block([\n",
    "            [np.zeros((n, n)), A.T, np.eye(n)],\n",
    "            [A, np.zeros((m, m)), np.zeros((m, n))],\n",
    "            [np.diag(mus), np.zeros((n, m)), np.diag(x)]\n",
    "        ])\n",
    "\n",
    "        # Solve for direction\n",
    "        del_pdvars = np.linalg.solve(J, -rhs)\n",
    "        dx, dl, dm = unpack(del_pdvars)\n",
    "\n",
    "        # Check convergence\n",
    "        if np.linalg.norm(del_pdvars, ord=np.inf) < eps:\n",
    "            break\n",
    "\n",
    "        # Calculate maximum allowable step size\n",
    "        ts = np.hstack([-x / dx, -mus / dm])\n",
    "        ts = ts[ts > 0]  # Only consider positive step sizes\n",
    "        alpha = min(np.nanmin(ts), 1)  # Ensure steps do not exceed 1\n",
    "\n",
    "        # Update primal-dual variables\n",
    "        pdvars += alpha * del_pdvars\n",
    "\n",
    "    return unpack(pdvars)[0], iteration\n"
   ]
  },
  {
   "cell_type": "code",
   "execution_count": 4,
   "metadata": {},
   "outputs": [
    {
     "data": {
      "text/plain": [
       "(array([5.99999976, 2.00000015]), 13)"
      ]
     },
     "execution_count": 4,
     "metadata": {},
     "output_type": "execute_result"
    }
   ],
   "source": [
    "# Our test problem:\n",
    "b = np.array([12, 8, 10])\n",
    "c = np.array([3, 2])\n",
    "A = np.array([[-1, 3], [1, 1], [2, -1]])\n",
    "# Create initial search point near zero:\n",
    "epsilon = 1e-3\n",
    "x0 = np.ones(2)*epsilon\n",
    "# Compute the slack variables:\n",
    "xs = b - A@x0\n",
    "x_init = np.hstack([x0,xs])\n",
    "# Add slack variables\n",
    "AI = np.hstack([A, np.eye(3)])\n",
    "c = np.hstack([-c, np.zeros(3)])\n",
    "xk, iter = interior_point(AI, b, c, x_init)\n",
    "\n",
    "xk[:2], iter"
   ]
  }
 ],
 "metadata": {
  "kernelspec": {
   "display_name": "Python 3",
   "language": "python",
   "name": "python3"
  },
  "language_info": {
   "codemirror_mode": {
    "name": "ipython",
    "version": 3
   },
   "file_extension": ".py",
   "mimetype": "text/x-python",
   "name": "python",
   "nbconvert_exporter": "python",
   "pygments_lexer": "ipython3",
   "version": "3.9.6"
  }
 },
 "nbformat": 4,
 "nbformat_minor": 2
}
