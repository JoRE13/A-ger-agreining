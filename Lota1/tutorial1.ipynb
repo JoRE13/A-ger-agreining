{
 "cells": [
  {
   "cell_type": "code",
   "execution_count": 1,
   "metadata": {},
   "outputs": [
    {
     "name": "stdout",
     "output_type": "stream",
     "text": [
      "Optimal solution: [4. 1. 1. 0. 0. 1. 1.] Objective =  8.0\n"
     ]
    },
    {
     "data": {
      "text/plain": [
       "(array([6., 2., 2., 2., 6., 7., 7.]), array([3, 2, 2, 2, 6, 7, 7]))"
      ]
     },
     "execution_count": 1,
     "metadata": {},
     "output_type": "execute_result"
    }
   ],
   "source": [
    "from scipy.optimize import linprog\n",
    "import numpy as np\n",
    "\n",
    "# Shifts starting on the different days of the week\n",
    "shift = ['sSun', 'sMon', 'sTue', 'sWed', 'sThu', 'sFri', 'sSat']\n",
    "\n",
    "# Actual days of the week\n",
    "days = ['Sun', 'Mon', 'Tue', 'Wed', 'Thu', 'Fri', 'Sat']\n",
    "\n",
    "# Demand for workers on different days of the week\n",
    "b = np.array([3, 2, 2, 2, 6, 7, 7])\n",
    "\n",
    "# Unit cost of workers on the different shifts\n",
    "c = np.array([1, 1, 1, 1, 1, 1, 1])\n",
    "\n",
    "# Matrix for shifts and the days they work\n",
    "A = np.array([\n",
    "    [1, 1, 1, 1, 0, 0, 0],\n",
    "    [0, 1, 1, 1, 1, 0, 0],\n",
    "    [0, 0, 1, 1, 1, 1, 0],\n",
    "    [0, 0, 0, 1, 1, 1, 1],\n",
    "    [1, 0, 0, 0, 1, 1, 1],\n",
    "    [1, 1, 0, 0, 0, 1, 1],\n",
    "    [1, 1, 1, 0, 0, 0, 1]\n",
    "])\n",
    "\n",
    "# Solve the linear programming problem\n",
    "result = linprog(c, A_ub=-A, b_ub=-b, method='highs')\n",
    "\n",
    "# Print the solution\n",
    "print(\"Optimal solution:\", result.x, \"Objective = \", result.fun)\n",
    "\n",
    "A@result.x, b"
   ]
  },
  {
   "cell_type": "markdown",
   "metadata": {},
   "source": [
    "### The Pizzerias worker shift problem\n",
    "\n",
    "The model for the Pizzeria problem is described in Python using GurobiPy.\n",
    "\n",
    "\n",
    "First we need to get install gurobipy using pip:"
   ]
  },
  {
   "cell_type": "code",
   "execution_count": 2,
   "metadata": {},
   "outputs": [
    {
     "name": "stdout",
     "output_type": "stream",
     "text": [
      "Defaulting to user installation because normal site-packages is not writeable\n",
      "Collecting gurobipy\n",
      "  Downloading gurobipy-12.0.0-cp39-cp39-macosx_10_9_universal2.whl.metadata (15 kB)\n",
      "Downloading gurobipy-12.0.0-cp39-cp39-macosx_10_9_universal2.whl (12.2 MB)\n",
      "\u001b[2K   \u001b[90m━━━━━━━━━━━━━━━━━━━━━━━━━━━━━━━━━━━━━━━━\u001b[0m \u001b[32m12.2/12.2 MB\u001b[0m \u001b[31m5.9 MB/s\u001b[0m eta \u001b[36m0:00:00\u001b[0m00:01\u001b[0m00:01\u001b[0m\n",
      "\u001b[?25hInstalling collected packages: gurobipy\n",
      "Successfully installed gurobipy-12.0.0\n",
      "\n",
      "\u001b[1m[\u001b[0m\u001b[34;49mnotice\u001b[0m\u001b[1;39;49m]\u001b[0m\u001b[39;49m A new release of pip is available: \u001b[0m\u001b[31;49m24.2\u001b[0m\u001b[39;49m -> \u001b[0m\u001b[32;49m24.3.1\u001b[0m\n",
      "\u001b[1m[\u001b[0m\u001b[34;49mnotice\u001b[0m\u001b[1;39;49m]\u001b[0m\u001b[39;49m To update, run: \u001b[0m\u001b[32;49m/Library/Developer/CommandLineTools/usr/bin/python3 -m pip install --upgrade pip\u001b[0m\n"
     ]
    }
   ],
   "source": [
    "!pip install gurobipy"
   ]
  },
  {
   "cell_type": "markdown",
   "metadata": {},
   "source": [
    "**Vanilla model**\n",
    "\n",
    "Now we set up the model, solve and display the result as done in the learnOR tutorial using the linprog package in R.\n",
    "\n",
    "The model is to minimize the number of workers working the different shifts ($S$):\n",
    "\n",
    "$$\\min \\sum_{s \\in S} x_{s}$$\n",
    "\n",
    "where $x_s$ denoted the number of workers on work shift, $s\\in S$. On which day, $d\\in D$, the different shifts are determined by the data matrix $A$ (binary indicator matrix) and so we have the condition\n",
    "\n",
    "$$\\sum_{s \\in S} A_{s,d} x_{s} \\ge b_d \\quad \\forall d \\in D$$\n",
    "\n",
    "where the parameter $b_d \\ge 0$ tells us the minimum required number of workers needed for that day $d$."
   ]
  },
  {
   "cell_type": "code",
   "execution_count": 1,
   "metadata": {},
   "outputs": [
    {
     "name": "stdout",
     "output_type": "stream",
     "text": [
      "Restricted license - for non-production use only - expires 2026-11-23\n",
      "Gurobi Optimizer version 12.0.0 build v12.0.0rc1 (mac64[x86] - Darwin 23.6.0 23H222)\n",
      "\n",
      "CPU model: Intel(R) Core(TM) i5-8210Y CPU @ 1.60GHz\n",
      "Thread count: 2 physical cores, 4 logical processors, using up to 4 threads\n",
      "\n",
      "Optimize a model with 7 rows, 7 columns and 28 nonzeros\n",
      "Model fingerprint: 0xa9b8e7d4\n",
      "Coefficient statistics:\n",
      "  Matrix range     [1e+00, 1e+00]\n",
      "  Objective range  [1e+00, 1e+00]\n",
      "  Bounds range     [0e+00, 0e+00]\n",
      "  RHS range        [2e+00, 7e+00]\n",
      "Presolve time: 0.04s\n",
      "Presolved: 7 rows, 7 columns, 28 nonzeros\n",
      "\n",
      "Iteration    Objective       Primal Inf.    Dual Inf.      Time\n",
      "       0    0.0000000e+00   2.900000e+01   0.000000e+00      0s\n",
      "       5    8.0000000e+00   0.000000e+00   0.000000e+00      0s\n",
      "\n",
      "Solved in 5 iterations and 0.11 seconds (0.00 work units)\n",
      "Optimal objective  8.000000000e+00\n",
      "x =  [4. 1. 1. 0. 0. 1. 1.]\n",
      "Objective = 8\n"
     ]
    },
    {
     "data": {
      "text/plain": [
       "(array([6., 2., 2., 2., 6., 7., 7.]), [3, 2, 2, 2, 6, 7, 7])"
      ]
     },
     "execution_count": 1,
     "metadata": {},
     "output_type": "execute_result"
    }
   ],
   "source": [
    "import gurobipy as gp\n",
    "from gurobipy import GRB\n",
    "import numpy as np\n",
    "\n",
    "# Create a new model\n",
    "model = gp.Model(\"Pizzeria\")\n",
    "\n",
    "# Create the set of objects we are working with\n",
    "Days = list(range(7)) # 'sun' = 0, 'mon' = 1, ..., 'sat' = 6\n",
    "Shifts = Days # ['shift-' + d for d in Days]\n",
    "\n",
    "# Create continuous decision variable for number of workers required for given day\n",
    "x = model.addVars(Days)\n",
    "\n",
    "# Set objective number of workers, note each shift is 4 days!\n",
    "model.setObjective(gp.quicksum(x[s] for s in Shifts), GRB.MINIMIZE)\n",
    "\n",
    "# Add constraints for the minimal workers required\n",
    "A = np.array([[1.,1,1,1,0,0,0],\n",
    "      [0,1,1,1,1,0,0],\n",
    "      [0,0,1,1,1,1,0],\n",
    "      [0,0,0,1,1,1,1],\n",
    "      [1,0,0,0,1,1,1],\n",
    "      [1,1,0,0,0,1,1],\n",
    "      [1,1,1,0,0,0,1]]) # Data mxn\n",
    "b = [3,2,2,2,6,7,7]     # Demand data of length m (number of days)\n",
    "model.addConstrs( gp.quicksum(x[s] * A[d,s] for s in Shifts) >= b[d] for d in Days)\n",
    "\n",
    "# Optimize model\n",
    "model.optimize()\n",
    "\n",
    "# Display the decision and its objective value\n",
    "xnp = np.array([x[s].X for s in Shifts])\n",
    "print(\"x = \", xnp)\n",
    "print('Objective = %g' % model.objVal)\n",
    "A@xnp, b"
   ]
  }
 ],
 "metadata": {
  "kernelspec": {
   "display_name": "Python 3",
   "language": "python",
   "name": "python3"
  },
  "language_info": {
   "codemirror_mode": {
    "name": "ipython",
    "version": 3
   },
   "file_extension": ".py",
   "mimetype": "text/x-python",
   "name": "python",
   "nbconvert_exporter": "python",
   "pygments_lexer": "ipython3",
   "version": "3.9.6"
  }
 },
 "nbformat": 4,
 "nbformat_minor": 2
}
